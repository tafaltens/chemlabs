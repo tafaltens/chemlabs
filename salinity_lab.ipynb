{
 "cells": [
  {
   "cell_type": "markdown",
   "metadata": {},
   "source": [
    "# Seawater Salinity Lab "
   ]
  },
  {
   "cell_type": "markdown",
   "metadata": {},
   "source": [
    "## Introduction\n",
    "This lab will show you how to use a Jupyter Notebook to create a calibration curve, evaluate the goodness of the curve, and predict a value.\n",
    "\n",
    "To proceed through this tutorial, click the Run button for each cell as you procede sequentially through this notebook. You can also type control+shift to run each cell.\n",
    "\n",
    "To prepare your data for analysis, put it in a spreadsheet and save as a .csv file."
   ]
  },
  {
   "cell_type": "markdown",
   "metadata": {},
   "source": [
    "We start out by importing some popular data analysis and statistics and plotting libraries that are in nanoHUB"
   ]
  },
  {
   "cell_type": "code",
   "execution_count": 2,
   "metadata": {},
   "outputs": [],
   "source": [
    "import pandas as pd\n",
    "import matplotlib.pyplot as plt "
   ]
  },
  {
   "cell_type": "code",
   "execution_count": 3,
   "metadata": {},
   "outputs": [],
   "source": [
    "# Import the data- which is a file called \"salinity.csv\" that must be in the same folder as this notebook.\n",
    "# and put this data into a dataframe called calibration\n",
    "calibration = pd.read_csv('salinity.csv')"
   ]
  },
  {
   "cell_type": "code",
   "execution_count": 4,
   "metadata": {},
   "outputs": [
    {
     "data": {
      "text/html": [
       "<div>\n",
       "<style scoped>\n",
       "    .dataframe tbody tr th:only-of-type {\n",
       "        vertical-align: middle;\n",
       "    }\n",
       "\n",
       "    .dataframe tbody tr th {\n",
       "        vertical-align: top;\n",
       "    }\n",
       "\n",
       "    .dataframe thead th {\n",
       "        text-align: right;\n",
       "    }\n",
       "</style>\n",
       "<table border=\"1\" class=\"dataframe\">\n",
       "  <thead>\n",
       "    <tr style=\"text-align: right;\">\n",
       "      <th></th>\n",
       "      <th>solution</th>\n",
       "      <th>mass_pct</th>\n",
       "      <th>density</th>\n",
       "    </tr>\n",
       "  </thead>\n",
       "  <tbody>\n",
       "    <tr>\n",
       "      <th>0</th>\n",
       "      <td>1</td>\n",
       "      <td>20.00</td>\n",
       "      <td>1.100</td>\n",
       "    </tr>\n",
       "    <tr>\n",
       "      <th>1</th>\n",
       "      <td>2</td>\n",
       "      <td>10.00</td>\n",
       "      <td>1.053</td>\n",
       "    </tr>\n",
       "    <tr>\n",
       "      <th>2</th>\n",
       "      <td>3</td>\n",
       "      <td>5.00</td>\n",
       "      <td>1.029</td>\n",
       "    </tr>\n",
       "    <tr>\n",
       "      <th>3</th>\n",
       "      <td>4</td>\n",
       "      <td>2.50</td>\n",
       "      <td>1.012</td>\n",
       "    </tr>\n",
       "    <tr>\n",
       "      <th>4</th>\n",
       "      <td>5</td>\n",
       "      <td>1.25</td>\n",
       "      <td>1.006</td>\n",
       "    </tr>\n",
       "  </tbody>\n",
       "</table>\n",
       "</div>"
      ],
      "text/plain": [
       "   solution  mass_pct  density\n",
       "0         1     20.00    1.100\n",
       "1         2     10.00    1.053\n",
       "2         3      5.00    1.029\n",
       "3         4      2.50    1.012\n",
       "4         5      1.25    1.006"
      ]
     },
     "execution_count": 4,
     "metadata": {},
     "output_type": "execute_result"
    }
   ],
   "source": [
    "# display the dataframe by typing its name\n",
    "calibration"
   ]
  },
  {
   "cell_type": "markdown",
   "metadata": {},
   "source": [
    "You can see that the columns are named salinity, mass_pct and density.  \n",
    "Next, we will plot this data using the extension .plot on the name of the dataframe.\n",
    "First, specify what is going to be plotted, then provide information on how to format the title and axes.\n",
    "This uses some features from matplotlib.  .title,  .xlabel, .ylabel"
   ]
  },
  {
   "cell_type": "code",
   "execution_count": 5,
   "metadata": {},
   "outputs": [
    {
     "data": {
      "text/plain": [
       "Text(0, 0.5, 'Mass % (g NaCl/g soln)')"
      ]
     },
     "execution_count": 5,
     "metadata": {},
     "output_type": "execute_result"
    },
    {
     "data": {
      "image/png": "[encoded data removed]",
      "text/plain": [
       "<Figure size 576x576 with 1 Axes>"
      ]
     },
     "metadata": {
      "needs_background": "light"
     },
     "output_type": "display_data"
    }
   ],
   "source": [
    "calibration.plot(x ='density', y='mass_pct', kind = 'scatter', figsize = (8,8))\n",
    "plt.title(\"Mass % NaCl vs Density of solution\")\n",
    "plt.xlabel('Tanyas Density(g/ml)')\n",
    "plt.ylabel('Mass % (g NaCl/g soln)')"
   ]
  },
  {
   "cell_type": "markdown",
   "metadata": {},
   "source": [
    "Now, let's fit a straight line to this curve using linear regression from a package called statsmodels\n",
    "\n",
    "https://www.statsmodels.org/stable/index.html\n",
    "\n",
    "import the package"
   ]
  },
  {
   "cell_type": "code",
   "execution_count": 6,
   "metadata": {},
   "outputs": [],
   "source": [
    "import statsmodels.formula.api as smf"
   ]
  },
  {
   "cell_type": "code",
   "execution_count": 7,
   "metadata": {},
   "outputs": [],
   "source": [
    "model = smf.ols('mass_pct ~ density', data=calibration) # .ols is ordinary least squares \n",
    "model = model.fit()"
   ]
  },
  {
   "cell_type": "code",
   "execution_count": 8,
   "metadata": {},
   "outputs": [],
   "source": [
    "# .summary shows many details about this curve fit\n",
    "# model.summary()"
   ]
  },
  {
   "cell_type": "markdown",
   "metadata": {},
   "source": [
    "The model is a straight line with the equation y = mx + b\n",
    "\n",
    "where \n",
    "b is the y-intercept\n",
    "m is the slope\n",
    "x is the independent variable \n",
    "y is the dependent variable.\n",
    "\n",
    "The values of m and b are in the above output:\n",
    "\n",
    "m = density\n",
    "b = intercept "
   ]
  },
  {
   "cell_type": "markdown",
   "metadata": {},
   "source": [
    "To display just these two values, type model.params"
   ]
  },
  {
   "cell_type": "code",
   "execution_count": 9,
   "metadata": {},
   "outputs": [
    {
     "data": {
      "text/plain": [
       "Intercept   -199.625643\n",
       "density      199.399657\n",
       "dtype: float64"
      ]
     },
     "execution_count": 9,
     "metadata": {},
     "output_type": "execute_result"
    }
   ],
   "source": [
    "model.params"
   ]
  },
  {
   "cell_type": "code",
   "execution_count": 11,
   "metadata": {},
   "outputs": [
    {
     "data": {
      "text/plain": [
       "<bound method Results.predict of <statsmodels.regression.linear_model.OLSResults object at 0x7fd2e68edc10>>"
      ]
     },
     "execution_count": 11,
     "metadata": {},
     "output_type": "execute_result"
    }
   ],
   "source": [
    "\n"
   ]
  },
  {
   "cell_type": "markdown",
   "metadata": {},
   "source": [
    "Now, let's plot the straight line and the data"
   ]
  },
  {
   "cell_type": "code",
   "execution_count": 12,
   "metadata": {},
   "outputs": [
    {
     "data": {
      "image/png": "[encoded data removed]",
      "text/plain": [
       "<Figure size 576x576 with 1 Axes>"
      ]
     },
     "metadata": {
      "needs_background": "light"
     },
     "output_type": "display_data"
    }
   ],
   "source": [
    "# Predict values\n",
    "density_pred = model.predict()\n",
    "\n",
    "# Plot regression against actual data\n",
    "plt.figure(figsize=(8, 8))\n",
    "plt.plot(calibration['density'], calibration['mass_pct'], 'o')     # scatter plot showing actual data\n",
    "plt.plot(calibration['density'], density_pred, 'r', linewidth=2)   # regression line is red\n",
    "plt.ylabel('Mass Percent in g NaCl / g solution')\n",
    "plt.xlabel('Density in g solution / ml solution')\n",
    "plt.title('Mass Percent NaCl vs Density')\n",
    "\n",
    "plt.show()"
   ]
  },
  {
   "cell_type": "markdown",
   "metadata": {},
   "source": [
    "If you know the density of a solution and want to find the Mass Percent NaCl, you can use the following function:"
   ]
  },
  {
   "cell_type": "code",
   "execution_count": null,
   "metadata": {},
   "outputs": [],
   "source": [
    "# this predicts the mass percent given a density (that is the new_d variable below.  You can edit that number)\n",
    "new_d_text = input('Enter new Density and press return or enter:\\n')  # you will get to enter the value, even though you enter a number, it will be categorized as \"text\"\n",
    "new_d = float(new_d_text)  #convert the text to a floating point number, so that it can be used in calculations\n",
    "# new_d = 1.03      # new_d is the name of the variable, 1.03 is the density you are entering.  Maybe \n",
    "# we can ask for this!\n",
    "\n",
    "masspct= model.predict({\"density\": new_d})"
   ]
  },
  {
   "cell_type": "code",
   "execution_count": null,
   "metadata": {},
   "outputs": [],
   "source": [
    "masspct"
   ]
  },
  {
   "cell_type": "code",
   "execution_count": null,
   "metadata": {},
   "outputs": [],
   "source": [
    "\n",
    "\n",
    "print(\"The mass percent is\",masspct[1] )"
   ]
  },
  {
   "cell_type": "markdown",
   "metadata": {},
   "source": [
    "The second value, after the 0, is the mass percent of a solution with the density you entered -- as predicted by the calibration curve.\n",
    "If you typed in 1.03, the solution is 5.756 mass percent NaCl.\n",
    "\n",
    "You can add cells to this notebook to calculate the molarity (M) from the mass percent.\n"
   ]
  }
 ],
 "metadata": {
  "kernelspec": {
   "display_name": "Python 3",
   "language": "python",
   "name": "python3"
  },
  "language_info": {
   "codemirror_mode": {
    "name": "ipython",
    "version": 3
   },
   "file_extension": ".py",
   "mimetype": "text/x-python",
   "name": "python",
   "nbconvert_exporter": "python",
   "pygments_lexer": "ipython3",
   "version": "3.7.7"
  }
 },
 "nbformat": 4,
 "nbformat_minor": 2
}
